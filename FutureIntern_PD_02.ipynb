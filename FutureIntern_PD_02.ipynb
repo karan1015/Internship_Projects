{
 "cells": [
  {
   "cell_type": "code",
   "execution_count": 1,
   "id": "ba6f6af7",
   "metadata": {},
   "outputs": [
    {
     "name": "stdout",
     "output_type": "stream",
     "text": [
      "Welcome to the Rock-Paper-Scissors Game!\n",
      "Enter your choice (Rock, Paper, Scissors): Rock\n",
      "Your choice: Rock\n",
      "Computer's choice: Paper\n",
      "Computer wins!\n"
     ]
    }
   ],
   "source": [
    "import random\n",
    "\n",
    "def get_computer_choice():\n",
    "    \"\"\"\n",
    "    Function to get the computer's choice.\n",
    "    Randomly selects 'Rock', 'Paper', or 'Scissors'.\n",
    "    \"\"\"\n",
    "    choices = ['Rock', 'Paper', 'Scissors']\n",
    "    return random.choice(choices)\n",
    "\n",
    "def get_user_choice():\n",
    "    \"\"\"\n",
    "    Function to get the user's choice.\n",
    "    Prompts the user to enter 'Rock', 'Paper', or 'Scissors'.\n",
    "    \"\"\"\n",
    "    while True:\n",
    "        user_input = input(\"Enter your choice (Rock, Paper, Scissors): \").capitalize()\n",
    "        if user_input in ['Rock', 'Paper', 'Scissors']:\n",
    "            return user_input\n",
    "        else:\n",
    "            print(\"Invalid choice. Please enter Rock, Paper, or Scissors.\")\n",
    "\n",
    "def determine_winner(user_choice, computer_choice):\n",
    "    \"\"\"\n",
    "    Function to determine the winner.\n",
    "    Applies the rules of Rock-Paper-Scissors to decide the outcome.\n",
    "    \"\"\"\n",
    "    if user_choice == computer_choice:\n",
    "        return \"It's a tie!\"\n",
    "    elif (user_choice == 'Rock' and computer_choice == 'Scissors') or \\\n",
    "         (user_choice == 'Paper' and computer_choice == 'Rock') or \\\n",
    "         (user_choice == 'Scissors' and computer_choice == 'Paper'):\n",
    "        return \"You win!\"\n",
    "    else:\n",
    "        return \"Computer wins!\"\n",
    "\n",
    "def play_game():\n",
    "    \"\"\"\n",
    "    Main function to play the Rock-Paper-Scissors game.\n",
    "    \"\"\"\n",
    "    print(\"Welcome to the Rock-Paper-Scissors Game!\")\n",
    "\n",
    "    user_choice = get_user_choice()\n",
    "    computer_choice = get_computer_choice()\n",
    "\n",
    "    print(f\"Your choice: {user_choice}\")\n",
    "    print(f\"Computer's choice: {computer_choice}\")\n",
    "\n",
    "    result = determine_winner(user_choice, computer_choice)\n",
    "    print(result)\n",
    "\n",
    "# Run the game\n",
    "if __name__ == \"__main__\":\n",
    "    play_game()\n"
   ]
  },
  {
   "cell_type": "code",
   "execution_count": null,
   "id": "89e14769",
   "metadata": {},
   "outputs": [],
   "source": []
  }
 ],
 "metadata": {
  "kernelspec": {
   "display_name": "Python 3 (ipykernel)",
   "language": "python",
   "name": "python3"
  },
  "language_info": {
   "codemirror_mode": {
    "name": "ipython",
    "version": 3
   },
   "file_extension": ".py",
   "mimetype": "text/x-python",
   "name": "python",
   "nbconvert_exporter": "python",
   "pygments_lexer": "ipython3",
   "version": "3.11.4"
  }
 },
 "nbformat": 4,
 "nbformat_minor": 5
}
